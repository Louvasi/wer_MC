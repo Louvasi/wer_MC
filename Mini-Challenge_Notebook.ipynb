{
 "cells": [
  {
   "metadata": {},
   "cell_type": "markdown",
   "source": [
    "In dieser Mini-Challenge wollen wir überprüfen, ob die Anzahl von Passen die Wahrscheinlichkeit für einen Treffer beim Basketball erhöhen kann. Dazu überprüfen wir, ob ein Block die Wahrscheinlichkeit reduzieren kann.\n",
    "\n",
    "## 1) Daten Sammlung\n",
    "\n",
    "Wir haben unsere eigene Daten gesammelt in einem Spiel mit drei Spieler.\n",
    "![Hits vs Blocks](plots/player_hits_blocks.png)\n",
    "![Throws Blocked](plots/throws_blocked.png)\n",
    "![Throws by Type](plots/throws_by_type.png)\n",
    "\n",
    "## 2) Wahrscheinlichkeit\n",
    "\n",
    "Für unsere Arbeit haben wir uns entschieden die Binomialverteilung anzuwenden, die die Erstellung eines einfachen Modells ermöglicht. Die Binomialverteilung beschreibt die Anzahl von Treffern bei einer Anzahl an Wiederholungen $n$, wobei es nur **Treffer und Niete** gibt und die Wahrscheinlichkeit bleibt **konstant**.\n",
    "\n",
    "$$P(x) = \\binom{n}{x}\\,*p^x*(1-p)^{n-x}$$\n",
    "-   $x$ = Erfolgreiche Treffer\n",
    "-   $n$ = Anzahl Versuche\n",
    "-   $p$ = Konstante Wahrscheinlichkeit\n",
    "\n",
    "### a) Wahrscheinlichkeit p per Spieler berechnen"
   ],
   "id": "95cf0b838498a323"
  },
  {
   "metadata": {
    "ExecuteTime": {
     "end_time": "2025-11-01T13:13:37.469476Z",
     "start_time": "2025-11-01T13:13:37.428050Z"
    }
   },
   "cell_type": "code",
   "source": [
    "import importlib\n",
    "import spielerstats\n",
    "import binomialverteilung_ultis\n",
    "\n",
    "# reload\n",
    "importlib.reload(binomialverteilung_ultis)\n",
    "importlib.reload(spielerstats)\n",
    "from spielerstats import get_player_stats\n",
    "from binomialverteilung_ultis import binomial_pmf\n",
    "\n",
    "# Alexis\n",
    "print(get_player_stats(\"Alexis\"))\n",
    "\n",
    "# Beispiel Alexis' Wahrscheinlichkeit 5 von 10 Würfen zu treffen ohne Blocks\n",
    "wahrscheinlichkeit1 = binomial_pmf(5, 10, 0.2) * 100\n",
    "print(f\"Alexis macht 10 Würfe ohne Block. Was ist die Wahrscheinlichkeit 5 von den zu treffen? {wahrscheinlichkeit1:.2f}%\")\n",
    "\n",
    "# Jakov\n",
    "print(get_player_stats(\"Jakov\"))\n",
    "\n",
    "# Beispiel Jakovs Wahrscheinlichkeit 5 von 10 Würfen zu treffen ohne Blocks\n",
    "wahrscheinlichkeit2 = binomial_pmf(5, 10, 0.16) * 100\n",
    "print(f\"Jakov macht 10 Würfe ohne Block. Was ist die Wahrscheinlichkeit 5 von den zu treffen? {wahrscheinlichkeit2:.2f}%\")\n",
    "\n",
    "# Loukas\n",
    "print(get_player_stats(\"Loukas\"))\n",
    "\n",
    "# Beispiel Loukas' Wahrscheinlichkeit 5 von 10 Würfen zu treffen ohne Blocks\n",
    "wahrscheinlichkeit3 = binomial_pmf(5,10,0.25) * 100\n",
    "print(f\"Loukas macht 10 Würfe ohne Block. Was ist die Wahrscheinlichkeit 5 von den zu treffen? {wahrscheinlichkeit3:.2f}%\")"
   ],
   "id": "2585ac04b8c308c9",
   "outputs": [
    {
     "name": "stdout",
     "output_type": "stream",
     "text": [
      "Spieler: Alexis\n",
      "Gesamt Würfe: 11\n",
      "Erfolg-Rate Wurf p_w = 0.20 (ohne Block = 0.20, mit Block = 0.00)\n",
      "Erfolg-Rate Lay-up p_lp = 0.00 (ohne Block = 0.00, mit Block = 0.00)\n",
      "Erfolg-Rate 3-Wurf p_3w = 0.00 (ohne Block = 0.00, mit Block = 0.00)\n",
      "Alexis macht 10 Würfe ohne Block. Was ist die Wahrscheinlichkeit 5 von den zu treffen? 2.64%\n",
      "Spieler: Jakov\n",
      "Gesamt Würfe: 39\n",
      "Erfolg-Rate Wurf p_w = 0.14 (ohne Block = 0.16, mit Block = 0.00)\n",
      "Erfolg-Rate Lay-up p_lp = 0.12 (ohne Block = 0.12, mit Block = 0.00)\n",
      "Erfolg-Rate 3-Wurf p_3w = 0.00 (ohne Block = 0.00, mit Block = 0.00)\n",
      "Jakov macht 10 Würfe ohne Block. Was ist die Wahrscheinlichkeit 5 von den zu treffen? 1.11%\n",
      "Spieler: Loukas\n",
      "Gesamt Würfe: 50\n",
      "Erfolg-Rate Wurf p_w = 0.22 (ohne Block = 0.25, mit Block = 0.00)\n",
      "Erfolg-Rate Lay-up p_lp = 0.37 (ohne Block = 0.39, mit Block = 0.00)\n",
      "Erfolg-Rate 3-Wurf p_3w = 0.12 (ohne Block = 0.12, mit Block = 0.00)\n",
      "Loukas macht 10 Würfe ohne Block. Was ist die Wahrscheinlichkeit 5 von den zu treffen? 5.84%\n"
     ]
    }
   ],
   "execution_count": 12
  },
  {
   "metadata": {},
   "cell_type": "code",
   "outputs": [],
   "execution_count": null,
   "source": "",
   "id": "bd1f4e1c08fba98b"
  }
 ],
 "metadata": {
  "kernelspec": {
   "display_name": "Python 3",
   "language": "python",
   "name": "python3"
  },
  "language_info": {
   "codemirror_mode": {
    "name": "ipython",
    "version": 2
   },
   "file_extension": ".py",
   "mimetype": "text/x-python",
   "name": "python",
   "nbconvert_exporter": "python",
   "pygments_lexer": "ipython2",
   "version": "2.7.6"
  }
 },
 "nbformat": 4,
 "nbformat_minor": 5
}
